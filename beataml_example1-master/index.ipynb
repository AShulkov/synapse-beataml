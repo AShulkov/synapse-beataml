{
 "cells": [
  {
   "cell_type": "markdown",
   "metadata": {},
   "source": [
    "# Train a baseline model for Subchallenge 1\n"
   ]
  },
  {
   "cell_type": "markdown",
   "metadata": {},
   "source": [
    "### First, download training data.\n",
    "\n",
    "This only needs to be run once, to populate the `training/` directory."
   ]
  },
  {
   "cell_type": "code",
   "execution_count": null,
   "metadata": {},
   "outputs": [],
   "source": [
    "#%pip install synapseclient\n",
    "\n",
    "#import getpass\n",
    "#import pandas\n",
    "#import synapseclient\n",
    "#import synapseutils\n",
    "\n",
    "#syn = synapseclient.Synapse()\n",
    "#syn.login(input(prompt=\"Enter Synapse Username\"), getpass.getpass(\"Enter Synapse Password\"))\n",
    "#downloaded_files = synapseutils.syncFromSynapse(syn, 'syn21212904', path='training') "
   ]
  },
  {
   "cell_type": "markdown",
   "metadata": {},
   "source": [
    "### Now, load the data, and train a model!"
   ]
  },
  {
   "cell_type": "code",
   "execution_count": 1,
   "metadata": {},
   "outputs": [],
   "source": [
    "import pandas\n",
    "rnaseq = pandas.read_csv('../training/rnaseq.csv')\n",
    "aucs = pandas.read_csv('../training/aucs.csv')\n",
    "\n",
    "rnaseq_lb = pandas.read_csv('../leaderboard/rnaseq.csv')\n",
    "aucs_lb = pandas.read_csv('../leaderboard/aucs.csv')"
   ]
  },
  {
   "cell_type": "code",
   "execution_count": 2,
   "metadata": {},
   "outputs": [
    {
     "name": "stdout",
     "output_type": "stream",
     "text": [
      "(63677, 215) (63677, 82)\n",
      "(20242, 3) (7850, 3)\n"
     ]
    }
   ],
   "source": [
    "print(rnaseq.shape, rnaseq_lb.shape)\n",
    "print(aucs.shape, aucs_lb.shape)"
   ]
  },
  {
   "cell_type": "code",
   "execution_count": 11,
   "metadata": {},
   "outputs": [
    {
     "data": {
      "text/plain": [
       "(28092, 3)"
      ]
     },
     "execution_count": 11,
     "metadata": {},
     "output_type": "execute_result"
    }
   ],
   "source": [
    "aucs = pandas.concat((aucs, aucs_lb), axis = 0)\n",
    "print(aucs.shape)"
   ]
  },
  {
   "cell_type": "code",
   "execution_count": 8,
   "metadata": {},
   "outputs": [],
   "source": [
    "import pickle"
   ]
  },
  {
   "cell_type": "code",
   "execution_count": 12,
   "metadata": {},
   "outputs": [
    {
     "name": "stdout",
     "output_type": "stream",
     "text": [
      "(293, 63677)\n"
     ]
    }
   ],
   "source": [
    "from util import TransposeRnaSeqTable\n",
    "\n",
    "specimens = TransposeRnaSeqTable(rnaseq)\n",
    "specimens_lb = TransposeRnaSeqTable(rnaseq_lb)\n",
    "specimens = pandas.concat((specimens, specimens_lb), axis = 0)\n",
    "print(specimens.shape)\n",
    "\n",
    "selected_genes = specimens.var().nlargest(20000).index.tolist()\n",
    "\n",
    "with open('model/selected_genes.pkl', 'wb') as f:\n",
    "        pickle.dump(selected_genes, f)"
   ]
  },
  {
   "cell_type": "code",
   "execution_count": 13,
   "metadata": {},
   "outputs": [],
   "source": [
    "import numpy\n",
    "from sklearn.linear_model import RidgeCV\n",
    "from sklearn.decomposition import KernelPCA\n",
    "from sklearn.preprocessing import StandardScaler\n",
    "\n",
    "# Normalize each specimen.\n",
    "X = specimens\n",
    "X = X.div(numpy.linalg.norm(X, axis=1), axis=0)\n",
    "X = X[selected_genes]\n",
    "\n",
    "# Compute z-score.\n",
    "#gene_mean = X.mean(axis=0)\n",
    "#gene_std = X.std(axis=0)\n",
    "#X = (X - gene_mean) / gene_std\n",
    "scaler = StandardScaler()\n",
    "X = pandas.DataFrame(scaler.fit_transform(X), index = X.index)\n",
    "\n",
    "with open('model/scaler.pkl', 'wb') as f:\n",
    "        pickle.dump(scaler, f)\n",
    "\n",
    "# apply kernel PCA\n",
    "pca = KernelPCA(kernel='rbf')\n",
    "X_pca = pandas.DataFrame(pca.fit_transform(X), index = X.index)\n",
    "X = X_pca\n",
    "\n",
    "with open('model/pca.pkl', 'wb') as f:\n",
    "        pickle.dump(pca, f)\n",
    "\n",
    "# For each inhibitor, train a regressor.\n",
    "alphas = numpy.logspace(-1, 5, num=40)\n",
    "regressors = {}\n",
    "for inhibitor in aucs.inhibitor.unique():\n",
    "    auc_subset = aucs[aucs.inhibitor == inhibitor]\n",
    "    regr = RidgeCV(alphas=alphas, store_cv_values=True)\n",
    "    regr = regr.fit(X.loc[auc_subset.lab_id], auc_subset.auc)\n",
    "    regressors[inhibitor] = regr\n",
    "\n",
    "# store the model information in model/    \n",
    "with open('model/regressors.pkl', 'wb') as f:\n",
    "        pickle.dump(regressors, f)\n"
   ]
  },
  {
   "cell_type": "markdown",
   "metadata": {},
   "source": [
    "### Submission to Synapse\n",
    "\n",
    "```bash\n",
    "cd Documents/Synapse/beataml_example1-master\n",
    "SYNAPSE_PROJECT_ID=syn21789396\n",
    "docker build -t docker.synapse.org/$SYNAPSE_PROJECT_ID/sc1_model:new_tag .\n",
    "docker images\n",
    "docker login docker.synapse.org -u Clyde_Dixon\n",
    "docker push docker.synapse.org/$SYNAPSE_PROJECT_ID/sc1_model:new_tag\n",
    "```\n",
    "\n",
    "_Verify the Docker image was successfully pushed:_ https://www.synapse.org/#!Synapse:<Your project ID>/docker\n",
    "    \n",
    "_Submit your Docker image:_ To submit your Docker image, navigate to the image uploaded on Synapse and click on the __Docker Repository Tools__ button in the upper-right corner. Select __Submit Docker Repository to Challenge__ from the options."
   ]
  }
 ],
 "metadata": {
  "kernelspec": {
   "display_name": "Python 3",
   "language": "python",
   "name": "python3"
  },
  "language_info": {
   "codemirror_mode": {
    "name": "ipython",
    "version": 3
   },
   "file_extension": ".py",
   "mimetype": "text/x-python",
   "name": "python",
   "nbconvert_exporter": "python",
   "pygments_lexer": "ipython3",
   "version": "3.6.9"
  }
 },
 "nbformat": 4,
 "nbformat_minor": 2
}
