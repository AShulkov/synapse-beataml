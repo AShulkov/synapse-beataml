{
 "cells": [
  {
   "cell_type": "code",
   "execution_count": 198,
   "metadata": {},
   "outputs": [],
   "source": [
    "import pandas as pd\n",
    "import numpy as np\n",
    "from matplotlib import pyplot as plt"
   ]
  },
  {
   "cell_type": "markdown",
   "metadata": {},
   "source": [
    "### RNA sequence data"
   ]
  },
  {
   "cell_type": "code",
   "execution_count": 2,
   "metadata": {},
   "outputs": [],
   "source": [
    "rnaseq = pd.read_csv('training/rnaseq.csv')"
   ]
  },
  {
   "cell_type": "code",
   "execution_count": 13,
   "metadata": {},
   "outputs": [],
   "source": [
    "def TransposeRnaSeqTable(rnaseq_table):\n",
    "    transposed = pd.DataFrame(rnaseq_table.iloc[:,2:].T)\n",
    "    transposed.columns = rnaseq_table['Gene']\n",
    "    return transposed"
   ]
  },
  {
   "cell_type": "code",
   "execution_count": 14,
   "metadata": {},
   "outputs": [
    {
     "name": "stdout",
     "output_type": "stream",
     "text": [
      "(213, 63677)\n"
     ]
    },
    {
     "data": {
      "text/html": [
       "<div>\n",
       "<style scoped>\n",
       "    .dataframe tbody tr th:only-of-type {\n",
       "        vertical-align: middle;\n",
       "    }\n",
       "\n",
       "    .dataframe tbody tr th {\n",
       "        vertical-align: top;\n",
       "    }\n",
       "\n",
       "    .dataframe thead th {\n",
       "        text-align: right;\n",
       "    }\n",
       "</style>\n",
       "<table border=\"1\" class=\"dataframe\">\n",
       "  <thead>\n",
       "    <tr style=\"text-align: right;\">\n",
       "      <th>Gene</th>\n",
       "      <th>ENSG00000000003</th>\n",
       "      <th>ENSG00000000005</th>\n",
       "      <th>ENSG00000000419</th>\n",
       "      <th>ENSG00000000457</th>\n",
       "      <th>ENSG00000000460</th>\n",
       "      <th>ENSG00000000938</th>\n",
       "      <th>ENSG00000000971</th>\n",
       "      <th>ENSG00000001036</th>\n",
       "      <th>ENSG00000001084</th>\n",
       "      <th>ENSG00000001167</th>\n",
       "      <th>...</th>\n",
       "      <th>ENSG00000273484</th>\n",
       "      <th>ENSG00000273485</th>\n",
       "      <th>ENSG00000273486</th>\n",
       "      <th>ENSG00000273487</th>\n",
       "      <th>ENSG00000273488</th>\n",
       "      <th>ENSG00000273489</th>\n",
       "      <th>ENSG00000273490</th>\n",
       "      <th>ENSG00000273491</th>\n",
       "      <th>ENSG00000273492</th>\n",
       "      <th>ENSG00000273493</th>\n",
       "    </tr>\n",
       "  </thead>\n",
       "  <tbody>\n",
       "    <tr>\n",
       "      <th>13-00098</th>\n",
       "      <td>-4.283015</td>\n",
       "      <td>-4.283015</td>\n",
       "      <td>5.293654</td>\n",
       "      <td>3.953188</td>\n",
       "      <td>4.557584</td>\n",
       "      <td>3.469123</td>\n",
       "      <td>0.823726</td>\n",
       "      <td>5.398720</td>\n",
       "      <td>5.881616</td>\n",
       "      <td>6.332506</td>\n",
       "      <td>...</td>\n",
       "      <td>-4.283015</td>\n",
       "      <td>-3.176196</td>\n",
       "      <td>1.203722</td>\n",
       "      <td>-3.625968</td>\n",
       "      <td>-1.297111</td>\n",
       "      <td>-3.625968</td>\n",
       "      <td>-4.283015</td>\n",
       "      <td>-4.283015</td>\n",
       "      <td>-4.283015</td>\n",
       "      <td>-3.625968</td>\n",
       "    </tr>\n",
       "    <tr>\n",
       "      <th>13-00118</th>\n",
       "      <td>-2.579843</td>\n",
       "      <td>-4.283015</td>\n",
       "      <td>4.592634</td>\n",
       "      <td>4.675118</td>\n",
       "      <td>3.644984</td>\n",
       "      <td>7.656301</td>\n",
       "      <td>2.883923</td>\n",
       "      <td>5.734598</td>\n",
       "      <td>5.964844</td>\n",
       "      <td>6.488802</td>\n",
       "      <td>...</td>\n",
       "      <td>-4.283015</td>\n",
       "      <td>-2.854272</td>\n",
       "      <td>1.560065</td>\n",
       "      <td>-2.854272</td>\n",
       "      <td>0.309481</td>\n",
       "      <td>-4.283015</td>\n",
       "      <td>-4.283015</td>\n",
       "      <td>-4.283015</td>\n",
       "      <td>-4.283015</td>\n",
       "      <td>-4.283015</td>\n",
       "    </tr>\n",
       "    <tr>\n",
       "      <th>13-00149</th>\n",
       "      <td>-2.038435</td>\n",
       "      <td>-4.283015</td>\n",
       "      <td>4.898245</td>\n",
       "      <td>4.524586</td>\n",
       "      <td>4.723479</td>\n",
       "      <td>5.998933</td>\n",
       "      <td>2.447976</td>\n",
       "      <td>5.590251</td>\n",
       "      <td>6.734444</td>\n",
       "      <td>6.185074</td>\n",
       "      <td>...</td>\n",
       "      <td>-4.283015</td>\n",
       "      <td>-2.633829</td>\n",
       "      <td>1.753293</td>\n",
       "      <td>-3.665583</td>\n",
       "      <td>-0.336114</td>\n",
       "      <td>-4.283015</td>\n",
       "      <td>-4.283015</td>\n",
       "      <td>-4.283015</td>\n",
       "      <td>-4.283015</td>\n",
       "      <td>-2.903159</td>\n",
       "    </tr>\n",
       "  </tbody>\n",
       "</table>\n",
       "<p>3 rows × 63677 columns</p>\n",
       "</div>"
      ],
      "text/plain": [
       "Gene      ENSG00000000003  ENSG00000000005  ENSG00000000419  ENSG00000000457  \\\n",
       "13-00098        -4.283015        -4.283015         5.293654         3.953188   \n",
       "13-00118        -2.579843        -4.283015         4.592634         4.675118   \n",
       "13-00149        -2.038435        -4.283015         4.898245         4.524586   \n",
       "\n",
       "Gene      ENSG00000000460  ENSG00000000938  ENSG00000000971  ENSG00000001036  \\\n",
       "13-00098         4.557584         3.469123         0.823726         5.398720   \n",
       "13-00118         3.644984         7.656301         2.883923         5.734598   \n",
       "13-00149         4.723479         5.998933         2.447976         5.590251   \n",
       "\n",
       "Gene      ENSG00000001084  ENSG00000001167  ...  ENSG00000273484  \\\n",
       "13-00098         5.881616         6.332506  ...        -4.283015   \n",
       "13-00118         5.964844         6.488802  ...        -4.283015   \n",
       "13-00149         6.734444         6.185074  ...        -4.283015   \n",
       "\n",
       "Gene      ENSG00000273485  ENSG00000273486  ENSG00000273487  ENSG00000273488  \\\n",
       "13-00098        -3.176196         1.203722        -3.625968        -1.297111   \n",
       "13-00118        -2.854272         1.560065        -2.854272         0.309481   \n",
       "13-00149        -2.633829         1.753293        -3.665583        -0.336114   \n",
       "\n",
       "Gene      ENSG00000273489  ENSG00000273490  ENSG00000273491  ENSG00000273492  \\\n",
       "13-00098        -3.625968        -4.283015        -4.283015        -4.283015   \n",
       "13-00118        -4.283015        -4.283015        -4.283015        -4.283015   \n",
       "13-00149        -4.283015        -4.283015        -4.283015        -4.283015   \n",
       "\n",
       "Gene      ENSG00000273493  \n",
       "13-00098        -3.625968  \n",
       "13-00118        -4.283015  \n",
       "13-00149        -2.903159  \n",
       "\n",
       "[3 rows x 63677 columns]"
      ]
     },
     "execution_count": 14,
     "metadata": {},
     "output_type": "execute_result"
    }
   ],
   "source": [
    "specimens = TransposeRnaSeqTable(rnaseq)\n",
    "print(specimens.shape)\n",
    "specimens.head(3)"
   ]
  },
  {
   "cell_type": "markdown",
   "metadata": {},
   "source": [
    "### Labels"
   ]
  },
  {
   "cell_type": "code",
   "execution_count": 98,
   "metadata": {},
   "outputs": [],
   "source": [
    "aucs = pd.read_csv('training/aucs.csv')\n",
    "\n",
    "#response = pd.read_csv('training/response.csv') -- Y (Ground Truth) for SC2 "
   ]
  },
  {
   "cell_type": "code",
   "execution_count": 12,
   "metadata": {},
   "outputs": [
    {
     "name": "stdout",
     "output_type": "stream",
     "text": [
      "(20242, 3)\n"
     ]
    },
    {
     "data": {
      "text/html": [
       "<div>\n",
       "<style scoped>\n",
       "    .dataframe tbody tr th:only-of-type {\n",
       "        vertical-align: middle;\n",
       "    }\n",
       "\n",
       "    .dataframe tbody tr th {\n",
       "        vertical-align: top;\n",
       "    }\n",
       "\n",
       "    .dataframe thead th {\n",
       "        text-align: right;\n",
       "    }\n",
       "</style>\n",
       "<table border=\"1\" class=\"dataframe\">\n",
       "  <thead>\n",
       "    <tr style=\"text-align: right;\">\n",
       "      <th></th>\n",
       "      <th>lab_id</th>\n",
       "      <th>inhibitor</th>\n",
       "      <th>auc</th>\n",
       "    </tr>\n",
       "  </thead>\n",
       "  <tbody>\n",
       "    <tr>\n",
       "      <th>0</th>\n",
       "      <td>13-00098</td>\n",
       "      <td>17-AAG (Tanespimycin)</td>\n",
       "      <td>230.223782</td>\n",
       "    </tr>\n",
       "    <tr>\n",
       "      <th>1</th>\n",
       "      <td>13-00118</td>\n",
       "      <td>17-AAG (Tanespimycin)</td>\n",
       "      <td>217.469453</td>\n",
       "    </tr>\n",
       "    <tr>\n",
       "      <th>2</th>\n",
       "      <td>13-00149</td>\n",
       "      <td>17-AAG (Tanespimycin)</td>\n",
       "      <td>206.326341</td>\n",
       "    </tr>\n",
       "  </tbody>\n",
       "</table>\n",
       "</div>"
      ],
      "text/plain": [
       "     lab_id              inhibitor         auc\n",
       "0  13-00098  17-AAG (Tanespimycin)  230.223782\n",
       "1  13-00118  17-AAG (Tanespimycin)  217.469453\n",
       "2  13-00149  17-AAG (Tanespimycin)  206.326341"
      ]
     },
     "execution_count": 12,
     "metadata": {},
     "output_type": "execute_result"
    }
   ],
   "source": [
    "print(aucs.shape)\n",
    "aucs.head(3)"
   ]
  },
  {
   "cell_type": "markdown",
   "metadata": {},
   "source": [
    "### Clinical categorical\n",
    "\n",
    "20 discrete features, from 2 to 15 values, no NAs.\n",
    "\n",
    "Rows are in a different order in comparison with <code>rnaseq</code> table!"
   ]
  },
  {
   "cell_type": "code",
   "execution_count": 94,
   "metadata": {},
   "outputs": [],
   "source": [
    "clin_cat = pd.read_csv('training/clinical_categorical.csv', header = 0, index_col = 'lab_id')\n",
    "clin_cat_legend = pd.read_csv('training/clinical_categorical_legend.csv')\n",
    "\n",
    "clin_cat_test = pd.read_csv('leaderboard/clinical_categorical.csv', header = 0, index_col = 'lab_id')"
   ]
  },
  {
   "cell_type": "code",
   "execution_count": 95,
   "metadata": {},
   "outputs": [
    {
     "name": "stdout",
     "output_type": "stream",
     "text": [
      "(213, 20)\n"
     ]
    },
    {
     "data": {
      "text/html": [
       "<div>\n",
       "<style scoped>\n",
       "    .dataframe tbody tr th:only-of-type {\n",
       "        vertical-align: middle;\n",
       "    }\n",
       "\n",
       "    .dataframe tbody tr th {\n",
       "        vertical-align: top;\n",
       "    }\n",
       "\n",
       "    .dataframe thead th {\n",
       "        text-align: right;\n",
       "    }\n",
       "</style>\n",
       "<table border=\"1\" class=\"dataframe\">\n",
       "  <thead>\n",
       "    <tr style=\"text-align: right;\">\n",
       "      <th></th>\n",
       "      <th>priorMalignancyNonMyeloid</th>\n",
       "      <th>priorMalignancyType</th>\n",
       "      <th>priorMalignancyRadiationTx</th>\n",
       "      <th>priorMDS</th>\n",
       "      <th>priorMDSMoreThanTwoMths</th>\n",
       "      <th>priorMDSMPN</th>\n",
       "      <th>priorMDSMPNMoreThanTwoMths</th>\n",
       "      <th>priorMPN</th>\n",
       "      <th>priorMPNMoreThanTwoMths</th>\n",
       "      <th>dxAtInclusion</th>\n",
       "      <th>specificDxAtInclusion</th>\n",
       "      <th>dxAtSpecimenAcquisition</th>\n",
       "      <th>specificDxAtAcquisition</th>\n",
       "      <th>specimenType</th>\n",
       "      <th>consensus_sex</th>\n",
       "      <th>FAB/Blast.Morphology</th>\n",
       "      <th>Karyotype</th>\n",
       "      <th>FLT3-ITD</th>\n",
       "      <th>NPM1</th>\n",
       "      <th>finalFusion</th>\n",
       "    </tr>\n",
       "    <tr>\n",
       "      <th>lab_id</th>\n",
       "      <th></th>\n",
       "      <th></th>\n",
       "      <th></th>\n",
       "      <th></th>\n",
       "      <th></th>\n",
       "      <th></th>\n",
       "      <th></th>\n",
       "      <th></th>\n",
       "      <th></th>\n",
       "      <th></th>\n",
       "      <th></th>\n",
       "      <th></th>\n",
       "      <th></th>\n",
       "      <th></th>\n",
       "      <th></th>\n",
       "      <th></th>\n",
       "      <th></th>\n",
       "      <th></th>\n",
       "      <th></th>\n",
       "      <th></th>\n",
       "    </tr>\n",
       "  </thead>\n",
       "  <tbody>\n",
       "    <tr>\n",
       "      <th>14-00135</th>\n",
       "      <td>0</td>\n",
       "      <td>0</td>\n",
       "      <td>0</td>\n",
       "      <td>0</td>\n",
       "      <td>0</td>\n",
       "      <td>0</td>\n",
       "      <td>0</td>\n",
       "      <td>0</td>\n",
       "      <td>0</td>\n",
       "      <td>0</td>\n",
       "      <td>5</td>\n",
       "      <td>0</td>\n",
       "      <td>5</td>\n",
       "      <td>0</td>\n",
       "      <td>1</td>\n",
       "      <td>4</td>\n",
       "      <td>5</td>\n",
       "      <td>0</td>\n",
       "      <td>0</td>\n",
       "      <td>4</td>\n",
       "    </tr>\n",
       "    <tr>\n",
       "      <th>16-00315</th>\n",
       "      <td>0</td>\n",
       "      <td>0</td>\n",
       "      <td>0</td>\n",
       "      <td>0</td>\n",
       "      <td>0</td>\n",
       "      <td>0</td>\n",
       "      <td>0</td>\n",
       "      <td>0</td>\n",
       "      <td>0</td>\n",
       "      <td>0</td>\n",
       "      <td>2</td>\n",
       "      <td>0</td>\n",
       "      <td>2</td>\n",
       "      <td>2</td>\n",
       "      <td>1</td>\n",
       "      <td>0</td>\n",
       "      <td>5</td>\n",
       "      <td>0</td>\n",
       "      <td>0</td>\n",
       "      <td>4</td>\n",
       "    </tr>\n",
       "    <tr>\n",
       "      <th>16-01094</th>\n",
       "      <td>0</td>\n",
       "      <td>0</td>\n",
       "      <td>0</td>\n",
       "      <td>0</td>\n",
       "      <td>0</td>\n",
       "      <td>0</td>\n",
       "      <td>0</td>\n",
       "      <td>0</td>\n",
       "      <td>0</td>\n",
       "      <td>0</td>\n",
       "      <td>9</td>\n",
       "      <td>0</td>\n",
       "      <td>9</td>\n",
       "      <td>0</td>\n",
       "      <td>0</td>\n",
       "      <td>0</td>\n",
       "      <td>1</td>\n",
       "      <td>0</td>\n",
       "      <td>0</td>\n",
       "      <td>4</td>\n",
       "    </tr>\n",
       "  </tbody>\n",
       "</table>\n",
       "</div>"
      ],
      "text/plain": [
       "          priorMalignancyNonMyeloid  priorMalignancyType  \\\n",
       "lab_id                                                     \n",
       "14-00135                          0                    0   \n",
       "16-00315                          0                    0   \n",
       "16-01094                          0                    0   \n",
       "\n",
       "          priorMalignancyRadiationTx  priorMDS  priorMDSMoreThanTwoMths  \\\n",
       "lab_id                                                                    \n",
       "14-00135                           0         0                        0   \n",
       "16-00315                           0         0                        0   \n",
       "16-01094                           0         0                        0   \n",
       "\n",
       "          priorMDSMPN  priorMDSMPNMoreThanTwoMths  priorMPN  \\\n",
       "lab_id                                                        \n",
       "14-00135            0                           0         0   \n",
       "16-00315            0                           0         0   \n",
       "16-01094            0                           0         0   \n",
       "\n",
       "          priorMPNMoreThanTwoMths  dxAtInclusion  specificDxAtInclusion  \\\n",
       "lab_id                                                                    \n",
       "14-00135                        0              0                      5   \n",
       "16-00315                        0              0                      2   \n",
       "16-01094                        0              0                      9   \n",
       "\n",
       "          dxAtSpecimenAcquisition  specificDxAtAcquisition  specimenType  \\\n",
       "lab_id                                                                     \n",
       "14-00135                        0                        5             0   \n",
       "16-00315                        0                        2             2   \n",
       "16-01094                        0                        9             0   \n",
       "\n",
       "          consensus_sex  FAB/Blast.Morphology  Karyotype  FLT3-ITD  NPM1  \\\n",
       "lab_id                                                                     \n",
       "14-00135              1                     4          5         0     0   \n",
       "16-00315              1                     0          5         0     0   \n",
       "16-01094              0                     0          1         0     0   \n",
       "\n",
       "          finalFusion  \n",
       "lab_id                 \n",
       "14-00135            4  \n",
       "16-00315            4  \n",
       "16-01094            4  "
      ]
     },
     "execution_count": 95,
     "metadata": {},
     "output_type": "execute_result"
    }
   ],
   "source": [
    "print(clin_cat.shape)\n",
    "print(clin_cat_test.shape)\n",
    "\n",
    "clin_cat.head(3)"
   ]
  },
  {
   "cell_type": "code",
   "execution_count": 193,
   "metadata": {},
   "outputs": [
    {
     "name": "stdout",
     "output_type": "stream",
     "text": [
      "0\n",
      "0\n"
     ]
    }
   ],
   "source": [
    "print(sum(clin_cat.count() != clin_cat.shape[0]))\n",
    "print(sum(clin_cat_test.count() != clin_cat_test.shape[0]))"
   ]
  },
  {
   "cell_type": "code",
   "execution_count": 82,
   "metadata": {},
   "outputs": [
    {
     "name": "stdout",
     "output_type": "stream",
     "text": [
      "priorMalignancyNonMyeloid 2\n",
      "priorMalignancyType 6\n",
      "priorMalignancyRadiationTx 2\n",
      "priorMDS 2\n",
      "priorMDSMoreThanTwoMths 2\n",
      "priorMDSMPN 2\n",
      "priorMDSMPNMoreThanTwoMths 2\n",
      "priorMPN 2\n",
      "priorMPNMoreThanTwoMths 2\n",
      "dxAtInclusion 3\n",
      "specificDxAtInclusion 15\n",
      "dxAtSpecimenAcquisition 3\n",
      "specificDxAtAcquisition 14\n",
      "specimenType 3\n",
      "consensus_sex 2\n",
      "FAB/Blast.Morphology 7\n",
      "Karyotype 6\n",
      "FLT3-ITD 2\n",
      "NPM1 2\n",
      "finalFusion 8\n"
     ]
    }
   ],
   "source": [
    "for col in clin_cat.columns:\n",
    "    print(col, clin_cat[col].nunique())"
   ]
  },
  {
   "cell_type": "code",
   "execution_count": 83,
   "metadata": {},
   "outputs": [
    {
     "name": "stdout",
     "output_type": "stream",
     "text": [
      "(87, 3)\n"
     ]
    },
    {
     "data": {
      "text/html": [
       "<div>\n",
       "<style scoped>\n",
       "    .dataframe tbody tr th:only-of-type {\n",
       "        vertical-align: middle;\n",
       "    }\n",
       "\n",
       "    .dataframe tbody tr th {\n",
       "        vertical-align: top;\n",
       "    }\n",
       "\n",
       "    .dataframe thead th {\n",
       "        text-align: right;\n",
       "    }\n",
       "</style>\n",
       "<table border=\"1\" class=\"dataframe\">\n",
       "  <thead>\n",
       "    <tr style=\"text-align: right;\">\n",
       "      <th></th>\n",
       "      <th>column</th>\n",
       "      <th>enum</th>\n",
       "      <th>value</th>\n",
       "    </tr>\n",
       "  </thead>\n",
       "  <tbody>\n",
       "    <tr>\n",
       "      <th>0</th>\n",
       "      <td>priorMalignancyNonMyeloid</td>\n",
       "      <td>0</td>\n",
       "      <td>n</td>\n",
       "    </tr>\n",
       "    <tr>\n",
       "      <th>1</th>\n",
       "      <td>priorMalignancyNonMyeloid</td>\n",
       "      <td>1</td>\n",
       "      <td>y</td>\n",
       "    </tr>\n",
       "    <tr>\n",
       "      <th>2</th>\n",
       "      <td>priorMalignancyType</td>\n",
       "      <td>0</td>\n",
       "      <td>UNKNOWN</td>\n",
       "    </tr>\n",
       "  </tbody>\n",
       "</table>\n",
       "</div>"
      ],
      "text/plain": [
       "                      column  enum    value\n",
       "0  priorMalignancyNonMyeloid     0        n\n",
       "1  priorMalignancyNonMyeloid     1        y\n",
       "2        priorMalignancyType     0  UNKNOWN"
      ]
     },
     "execution_count": 83,
     "metadata": {},
     "output_type": "execute_result"
    }
   ],
   "source": [
    "print(clin_cat_legend.shape)\n",
    "clin_cat_legend.head(3)"
   ]
  },
  {
   "cell_type": "code",
   "execution_count": 84,
   "metadata": {},
   "outputs": [
    {
     "data": {
      "text/plain": [
       "specificDxAtInclusion         15\n",
       "specificDxAtAcquisition       14\n",
       "finalFusion                    8\n",
       "FAB/Blast.Morphology           7\n",
       "Karyotype                      6\n",
       "priorMalignancyType            6\n",
       "specimenType                   3\n",
       "dxAtSpecimenAcquisition        3\n",
       "dxAtInclusion                  3\n",
       "priorMalignancyRadiationTx     2\n",
       "priorMalignancyNonMyeloid      2\n",
       "priorMDSMoreThanTwoMths        2\n",
       "FLT3-ITD                       2\n",
       "priorMDSMPNMoreThanTwoMths     2\n",
       "priorMPN                       2\n",
       "priorMPNMoreThanTwoMths        2\n",
       "priorMDSMPN                    2\n",
       "consensus_sex                  2\n",
       "priorMDS                       2\n",
       "NPM1                           2\n",
       "Name: column, dtype: int64"
      ]
     },
     "execution_count": 84,
     "metadata": {},
     "output_type": "execute_result"
    }
   ],
   "source": [
    "clin_cat_legend.column.value_counts()"
   ]
  },
  {
   "cell_type": "code",
   "execution_count": 34,
   "metadata": {},
   "outputs": [
    {
     "name": "stdout",
     "output_type": "stream",
     "text": [
      "priorMalignancyNonMyeloid\n",
      "                      column  enum value\n",
      "0  priorMalignancyNonMyeloid     0     n\n",
      "1  priorMalignancyNonMyeloid     1     y\n",
      "priorMalignancyType\n",
      "                column  enum                  value\n",
      "2  priorMalignancyType     0                UNKNOWN\n",
      "3  priorMalignancyType     1          Breast Cancer\n",
      "4  priorMalignancyType     2            Lung Cancer\n",
      "5  priorMalignancyType     3  Non-Hodgkins Lymphoma\n",
      "6  priorMalignancyType     4        Prostate Cancer\n",
      "7  priorMalignancyType     5                  OTHER\n",
      "priorMalignancyRadiationTx\n",
      "                       column  enum value\n",
      "8  priorMalignancyRadiationTx     0     n\n",
      "9  priorMalignancyRadiationTx     1     y\n",
      "priorMDS\n",
      "      column  enum value\n",
      "10  priorMDS     0     n\n",
      "11  priorMDS     1     y\n",
      "priorMDSMoreThanTwoMths\n",
      "                     column  enum value\n",
      "12  priorMDSMoreThanTwoMths     0     n\n",
      "13  priorMDSMoreThanTwoMths     1     y\n",
      "priorMDSMPN\n",
      "         column  enum value\n",
      "14  priorMDSMPN     0     n\n",
      "15  priorMDSMPN     1     y\n",
      "priorMDSMPNMoreThanTwoMths\n",
      "                        column  enum value\n",
      "16  priorMDSMPNMoreThanTwoMths     0     n\n",
      "17  priorMDSMPNMoreThanTwoMths     1     y\n",
      "priorMPN\n",
      "      column  enum value\n",
      "18  priorMPN     0     n\n",
      "19  priorMPN     1     y\n",
      "priorMPNMoreThanTwoMths\n",
      "                     column  enum value\n",
      "20  priorMPNMoreThanTwoMths     0     n\n",
      "21  priorMPNMoreThanTwoMths     1     y\n",
      "dxAtInclusion\n",
      "           column  enum                                              value\n",
      "22  dxAtInclusion     0  ACUTE MYELOID LEUKAEMIA (AML) AND RELATED PREC...\n",
      "23  dxAtInclusion     1                          MYELODYSPLASTIC SYNDROMES\n",
      "24  dxAtInclusion     2                                              OTHER\n",
      "specificDxAtInclusion\n",
      "                   column  enum  \\\n",
      "25  specificDxAtInclusion     0   \n",
      "26  specificDxAtInclusion     1   \n",
      "27  specificDxAtInclusion     2   \n",
      "28  specificDxAtInclusion     3   \n",
      "29  specificDxAtInclusion     4   \n",
      "30  specificDxAtInclusion     5   \n",
      "31  specificDxAtInclusion     6   \n",
      "32  specificDxAtInclusion     7   \n",
      "33  specificDxAtInclusion     8   \n",
      "34  specificDxAtInclusion     9   \n",
      "35  specificDxAtInclusion    10   \n",
      "36  specificDxAtInclusion    11   \n",
      "37  specificDxAtInclusion    12   \n",
      "38  specificDxAtInclusion    13   \n",
      "39  specificDxAtInclusion    14   \n",
      "\n",
      "                                                value  \n",
      "25  AML with inv(16)(p13.1q22) or t(16;16)(p13.1;q...  \n",
      "26  AML with inv(3)(q21q26.2) or t(3;3)(q21;q26.2)...  \n",
      "27                   AML with minimal differentiation  \n",
      "28                             AML with mutated CEBPA  \n",
      "29                              AML with mutated NPM1  \n",
      "30            AML with myelodysplasia-related changes  \n",
      "31           AML with t(8;21)(q22;q22); RUNX1-RUNX1T1  \n",
      "32               AML with t(9;11)(p22;q23); MLLT3-MLL  \n",
      "33         Acute monoblastic and monocytic leukaemia   \n",
      "34                       Acute myeloid leukaemia, NOS  \n",
      "35                     Acute myelomonocytic leukaemia  \n",
      "36  Acute promyelocytic leukaemia with t(15;17)(q2...  \n",
      "37                   Chronic myelomonocytic leukaemia  \n",
      "38                  Therapy-related myeloid neoplasms  \n",
      "39                                              OTHER  \n",
      "dxAtSpecimenAcquisition\n",
      "                     column  enum  \\\n",
      "40  dxAtSpecimenAcquisition     0   \n",
      "41  dxAtSpecimenAcquisition     1   \n",
      "42  dxAtSpecimenAcquisition     2   \n",
      "\n",
      "                                                value  \n",
      "40  ACUTE MYELOID LEUKAEMIA (AML) AND RELATED PREC...  \n",
      "41                          MYELODYSPLASTIC SYNDROMES  \n",
      "42                                              OTHER  \n",
      "specificDxAtAcquisition\n",
      "                     column  enum  \\\n",
      "43  specificDxAtAcquisition     0   \n",
      "44  specificDxAtAcquisition     1   \n",
      "45  specificDxAtAcquisition     2   \n",
      "46  specificDxAtAcquisition     3   \n",
      "47  specificDxAtAcquisition     4   \n",
      "48  specificDxAtAcquisition     5   \n",
      "49  specificDxAtAcquisition     6   \n",
      "50  specificDxAtAcquisition     7   \n",
      "51  specificDxAtAcquisition     8   \n",
      "52  specificDxAtAcquisition     9   \n",
      "53  specificDxAtAcquisition    10   \n",
      "54  specificDxAtAcquisition    11   \n",
      "55  specificDxAtAcquisition    12   \n",
      "56  specificDxAtAcquisition    13   \n",
      "\n",
      "                                                value  \n",
      "43  AML with inv(16)(p13.1q22) or t(16;16)(p13.1;q...  \n",
      "44  AML with inv(3)(q21q26.2) or t(3;3)(q21;q26.2)...  \n",
      "45                   AML with minimal differentiation  \n",
      "46                             AML with mutated CEBPA  \n",
      "47                              AML with mutated NPM1  \n",
      "48            AML with myelodysplasia-related changes  \n",
      "49           AML with t(8;21)(q22;q22); RUNX1-RUNX1T1  \n",
      "50               AML with t(9;11)(p22;q23); MLLT3-MLL  \n",
      "51         Acute monoblastic and monocytic leukaemia   \n",
      "52                       Acute myeloid leukaemia, NOS  \n",
      "53                     Acute myelomonocytic leukaemia  \n",
      "54  Acute promyelocytic leukaemia with t(15;17)(q2...  \n",
      "55                  Therapy-related myeloid neoplasms  \n",
      "56                                              OTHER  \n",
      "specimenType\n",
      "          column  enum                 value\n",
      "57  specimenType     0  Bone Marrow Aspirate\n",
      "58  specimenType     1         Leukapheresis\n",
      "59  specimenType     2      Peripheral Blood\n",
      "consensus_sex\n",
      "           column  enum   value\n",
      "60  consensus_sex     0  Female\n",
      "61  consensus_sex     1    Male\n",
      "FAB/Blast.Morphology\n",
      "                  column  enum    value\n",
      "62  FAB/Blast.Morphology     0  UNKNOWN\n",
      "63  FAB/Blast.Morphology     1       M0\n",
      "64  FAB/Blast.Morphology     2       M1\n",
      "65  FAB/Blast.Morphology     3       M3\n",
      "66  FAB/Blast.Morphology     4       M4\n",
      "67  FAB/Blast.Morphology     5       M5\n",
      "68  FAB/Blast.Morphology     6    OTHER\n",
      "Karyotype\n",
      "       column  enum      value\n",
      "69  Karyotype     0    UNKNOWN\n",
      "70  Karyotype     1  46,XX[20]\n",
      "71  Karyotype     2      46,XY\n",
      "72  Karyotype     3  46,XY[19]\n",
      "73  Karyotype     4  46,XY[20]\n",
      "74  Karyotype     5      OTHER\n",
      "FLT3-ITD\n",
      "      column  enum     value\n",
      "75  FLT3-ITD     0  negative\n",
      "76  FLT3-ITD     1  positive\n",
      "NPM1\n",
      "   column  enum     value\n",
      "77   NPM1     0  negative\n",
      "78   NPM1     1  positive\n",
      "finalFusion\n",
      "         column  enum          value\n",
      "79  finalFusion     0        UNKNOWN\n",
      "80  finalFusion     1     CBFB-MYH11\n",
      "81  finalFusion     2    GATA2-MECOM\n",
      "82  finalFusion     3    MLLT3-KMT2A\n",
      "83  finalFusion     4           None\n",
      "84  finalFusion     5       PML-RARA\n",
      "85  finalFusion     6  RUNX1-RUNX1T1\n",
      "86  finalFusion     7          OTHER\n"
     ]
    }
   ],
   "source": [
    "for col in clin_cat_legend.column.unique():\n",
    "    print(col)\n",
    "    print(clin_cat_legend[clin_cat_legend.column == col])"
   ]
  },
  {
   "cell_type": "code",
   "execution_count": 210,
   "metadata": {},
   "outputs": [
    {
     "name": "stdout",
     "output_type": "stream",
     "text": [
      "(213, 67) (80, 67)\n"
     ]
    },
    {
     "data": {
      "text/html": [
       "<div>\n",
       "<style scoped>\n",
       "    .dataframe tbody tr th:only-of-type {\n",
       "        vertical-align: middle;\n",
       "    }\n",
       "\n",
       "    .dataframe tbody tr th {\n",
       "        vertical-align: top;\n",
       "    }\n",
       "\n",
       "    .dataframe thead th {\n",
       "        text-align: right;\n",
       "    }\n",
       "</style>\n",
       "<table border=\"1\" class=\"dataframe\">\n",
       "  <thead>\n",
       "    <tr style=\"text-align: right;\">\n",
       "      <th></th>\n",
       "      <th>priorMalignancyNonMyeloid_1</th>\n",
       "      <th>priorMalignancyType_1</th>\n",
       "      <th>priorMalignancyType_2</th>\n",
       "      <th>priorMalignancyType_3</th>\n",
       "      <th>priorMalignancyType_4</th>\n",
       "      <th>priorMalignancyType_5</th>\n",
       "      <th>priorMalignancyRadiationTx_1</th>\n",
       "      <th>priorMDS_1</th>\n",
       "      <th>priorMDSMoreThanTwoMths_1</th>\n",
       "      <th>priorMDSMPN_1</th>\n",
       "      <th>...</th>\n",
       "      <th>Karyotype_5</th>\n",
       "      <th>FLT3-ITD_1</th>\n",
       "      <th>NPM1_1</th>\n",
       "      <th>finalFusion_1</th>\n",
       "      <th>finalFusion_2</th>\n",
       "      <th>finalFusion_3</th>\n",
       "      <th>finalFusion_4</th>\n",
       "      <th>finalFusion_5</th>\n",
       "      <th>finalFusion_6</th>\n",
       "      <th>finalFusion_7</th>\n",
       "    </tr>\n",
       "    <tr>\n",
       "      <th>lab_id</th>\n",
       "      <th></th>\n",
       "      <th></th>\n",
       "      <th></th>\n",
       "      <th></th>\n",
       "      <th></th>\n",
       "      <th></th>\n",
       "      <th></th>\n",
       "      <th></th>\n",
       "      <th></th>\n",
       "      <th></th>\n",
       "      <th></th>\n",
       "      <th></th>\n",
       "      <th></th>\n",
       "      <th></th>\n",
       "      <th></th>\n",
       "      <th></th>\n",
       "      <th></th>\n",
       "      <th></th>\n",
       "      <th></th>\n",
       "      <th></th>\n",
       "      <th></th>\n",
       "    </tr>\n",
       "  </thead>\n",
       "  <tbody>\n",
       "    <tr>\n",
       "      <th>14-00135</th>\n",
       "      <td>0</td>\n",
       "      <td>0</td>\n",
       "      <td>0</td>\n",
       "      <td>0</td>\n",
       "      <td>0</td>\n",
       "      <td>0</td>\n",
       "      <td>0</td>\n",
       "      <td>0</td>\n",
       "      <td>0</td>\n",
       "      <td>0</td>\n",
       "      <td>...</td>\n",
       "      <td>1</td>\n",
       "      <td>0</td>\n",
       "      <td>0</td>\n",
       "      <td>0</td>\n",
       "      <td>0</td>\n",
       "      <td>0</td>\n",
       "      <td>1</td>\n",
       "      <td>0</td>\n",
       "      <td>0</td>\n",
       "      <td>0</td>\n",
       "    </tr>\n",
       "    <tr>\n",
       "      <th>16-00315</th>\n",
       "      <td>0</td>\n",
       "      <td>0</td>\n",
       "      <td>0</td>\n",
       "      <td>0</td>\n",
       "      <td>0</td>\n",
       "      <td>0</td>\n",
       "      <td>0</td>\n",
       "      <td>0</td>\n",
       "      <td>0</td>\n",
       "      <td>0</td>\n",
       "      <td>...</td>\n",
       "      <td>1</td>\n",
       "      <td>0</td>\n",
       "      <td>0</td>\n",
       "      <td>0</td>\n",
       "      <td>0</td>\n",
       "      <td>0</td>\n",
       "      <td>1</td>\n",
       "      <td>0</td>\n",
       "      <td>0</td>\n",
       "      <td>0</td>\n",
       "    </tr>\n",
       "    <tr>\n",
       "      <th>16-01094</th>\n",
       "      <td>0</td>\n",
       "      <td>0</td>\n",
       "      <td>0</td>\n",
       "      <td>0</td>\n",
       "      <td>0</td>\n",
       "      <td>0</td>\n",
       "      <td>0</td>\n",
       "      <td>0</td>\n",
       "      <td>0</td>\n",
       "      <td>0</td>\n",
       "      <td>...</td>\n",
       "      <td>0</td>\n",
       "      <td>0</td>\n",
       "      <td>0</td>\n",
       "      <td>0</td>\n",
       "      <td>0</td>\n",
       "      <td>0</td>\n",
       "      <td>1</td>\n",
       "      <td>0</td>\n",
       "      <td>0</td>\n",
       "      <td>0</td>\n",
       "    </tr>\n",
       "  </tbody>\n",
       "</table>\n",
       "<p>3 rows × 67 columns</p>\n",
       "</div>"
      ],
      "text/plain": [
       "          priorMalignancyNonMyeloid_1  priorMalignancyType_1  \\\n",
       "lab_id                                                         \n",
       "14-00135                            0                      0   \n",
       "16-00315                            0                      0   \n",
       "16-01094                            0                      0   \n",
       "\n",
       "          priorMalignancyType_2  priorMalignancyType_3  priorMalignancyType_4  \\\n",
       "lab_id                                                                          \n",
       "14-00135                      0                      0                      0   \n",
       "16-00315                      0                      0                      0   \n",
       "16-01094                      0                      0                      0   \n",
       "\n",
       "          priorMalignancyType_5  priorMalignancyRadiationTx_1  priorMDS_1  \\\n",
       "lab_id                                                                      \n",
       "14-00135                      0                             0           0   \n",
       "16-00315                      0                             0           0   \n",
       "16-01094                      0                             0           0   \n",
       "\n",
       "          priorMDSMoreThanTwoMths_1  priorMDSMPN_1  ...  Karyotype_5  \\\n",
       "lab_id                                              ...                \n",
       "14-00135                          0              0  ...            1   \n",
       "16-00315                          0              0  ...            1   \n",
       "16-01094                          0              0  ...            0   \n",
       "\n",
       "          FLT3-ITD_1  NPM1_1  finalFusion_1  finalFusion_2  finalFusion_3  \\\n",
       "lab_id                                                                      \n",
       "14-00135           0       0              0              0              0   \n",
       "16-00315           0       0              0              0              0   \n",
       "16-01094           0       0              0              0              0   \n",
       "\n",
       "          finalFusion_4  finalFusion_5  finalFusion_6  finalFusion_7  \n",
       "lab_id                                                                \n",
       "14-00135              1              0              0              0  \n",
       "16-00315              1              0              0              0  \n",
       "16-01094              1              0              0              0  \n",
       "\n",
       "[3 rows x 67 columns]"
      ]
     },
     "execution_count": 210,
     "metadata": {},
     "output_type": "execute_result"
    }
   ],
   "source": [
    "clin_cat_ohe_columns = pd.get_dummies(clin_cat.astype('category'), drop_first=True).columns\n",
    "\n",
    "onehot_encoder = OneHotEncoder(sparse=False, drop='first', dtype=np.int)\n",
    "clin_cat_ohe = pd.DataFrame(onehot_encoder.fit_transform(clin_cat), \n",
    "                            index = clin_cat.index, \n",
    "                            columns = clin_cat_ohe_columns)\n",
    "clin_cat_test_ohe = pd.DataFrame(onehot_encoder.transform(clin_cat_test), \n",
    "                                 index = clin_cat_test.index,\n",
    "                                 columns = clin_cat_ohe_columns)\n",
    "print(clin_cat_ohe.shape, clin_cat_test_ohe.shape)\n",
    "clin_cat_ohe.head(3)"
   ]
  },
  {
   "cell_type": "markdown",
   "metadata": {},
   "source": [
    "### Clinical numerical"
   ]
  },
  {
   "cell_type": "code",
   "execution_count": 100,
   "metadata": {},
   "outputs": [],
   "source": [
    "clin_num = pd.read_csv('training/clinical_numerical.csv', header = 0, index_col = 'lab_id')\n",
    "clin_num_test = pd.read_csv('leaderboard/clinical_numerical.csv', header = 0, index_col = 'lab_id')"
   ]
  },
  {
   "cell_type": "code",
   "execution_count": 101,
   "metadata": {},
   "outputs": [
    {
     "name": "stdout",
     "output_type": "stream",
     "text": [
      "(213, 5)\n"
     ]
    },
    {
     "data": {
      "text/html": [
       "<div>\n",
       "<style scoped>\n",
       "    .dataframe tbody tr th:only-of-type {\n",
       "        vertical-align: middle;\n",
       "    }\n",
       "\n",
       "    .dataframe tbody tr th {\n",
       "        vertical-align: top;\n",
       "    }\n",
       "\n",
       "    .dataframe thead th {\n",
       "        text-align: right;\n",
       "    }\n",
       "</style>\n",
       "<table border=\"1\" class=\"dataframe\">\n",
       "  <thead>\n",
       "    <tr style=\"text-align: right;\">\n",
       "      <th></th>\n",
       "      <th>ageAtDiagnosis</th>\n",
       "      <th>timeOfSampleCollectionRelativeToInclusion</th>\n",
       "      <th>%.Blasts.in.PB</th>\n",
       "      <th>WBC.Count</th>\n",
       "      <th>ageAtSpecimenAcquisition</th>\n",
       "    </tr>\n",
       "    <tr>\n",
       "      <th>lab_id</th>\n",
       "      <th></th>\n",
       "      <th></th>\n",
       "      <th></th>\n",
       "      <th></th>\n",
       "      <th></th>\n",
       "    </tr>\n",
       "  </thead>\n",
       "  <tbody>\n",
       "    <tr>\n",
       "      <th>13-00098</th>\n",
       "      <td>64.0</td>\n",
       "      <td>0.0</td>\n",
       "      <td>0.0</td>\n",
       "      <td>1.5</td>\n",
       "      <td>64.0</td>\n",
       "    </tr>\n",
       "    <tr>\n",
       "      <th>13-00118</th>\n",
       "      <td>54.0</td>\n",
       "      <td>349.0</td>\n",
       "      <td>83.0</td>\n",
       "      <td>33.8</td>\n",
       "      <td>57.0</td>\n",
       "    </tr>\n",
       "    <tr>\n",
       "      <th>13-00149</th>\n",
       "      <td>78.0</td>\n",
       "      <td>0.0</td>\n",
       "      <td>72.0</td>\n",
       "      <td>8.5</td>\n",
       "      <td>79.0</td>\n",
       "    </tr>\n",
       "  </tbody>\n",
       "</table>\n",
       "</div>"
      ],
      "text/plain": [
       "          ageAtDiagnosis  timeOfSampleCollectionRelativeToInclusion  \\\n",
       "lab_id                                                                \n",
       "13-00098            64.0                                        0.0   \n",
       "13-00118            54.0                                      349.0   \n",
       "13-00149            78.0                                        0.0   \n",
       "\n",
       "          %.Blasts.in.PB  WBC.Count  ageAtSpecimenAcquisition  \n",
       "lab_id                                                         \n",
       "13-00098             0.0        1.5                      64.0  \n",
       "13-00118            83.0       33.8                      57.0  \n",
       "13-00149            72.0        8.5                      79.0  "
      ]
     },
     "execution_count": 101,
     "metadata": {},
     "output_type": "execute_result"
    }
   ],
   "source": [
    "print(clin_num.shape)\n",
    "clin_num.head(3)"
   ]
  },
  {
   "cell_type": "code",
   "execution_count": 123,
   "metadata": {},
   "outputs": [
    {
     "data": {
      "text/html": [
       "<div>\n",
       "<style scoped>\n",
       "    .dataframe tbody tr th:only-of-type {\n",
       "        vertical-align: middle;\n",
       "    }\n",
       "\n",
       "    .dataframe tbody tr th {\n",
       "        vertical-align: top;\n",
       "    }\n",
       "\n",
       "    .dataframe thead th {\n",
       "        text-align: right;\n",
       "    }\n",
       "</style>\n",
       "<table border=\"1\" class=\"dataframe\">\n",
       "  <thead>\n",
       "    <tr style=\"text-align: right;\">\n",
       "      <th></th>\n",
       "      <th>ageAtDiagnosis</th>\n",
       "      <th>timeOfSampleCollectionRelativeToInclusion</th>\n",
       "      <th>%.Blasts.in.PB</th>\n",
       "      <th>WBC.Count</th>\n",
       "      <th>ageAtSpecimenAcquisition</th>\n",
       "    </tr>\n",
       "    <tr>\n",
       "      <th>lab_id</th>\n",
       "      <th></th>\n",
       "      <th></th>\n",
       "      <th></th>\n",
       "      <th></th>\n",
       "      <th></th>\n",
       "    </tr>\n",
       "  </thead>\n",
       "  <tbody>\n",
       "    <tr>\n",
       "      <th>13-00650</th>\n",
       "      <td>NaN</td>\n",
       "      <td>2.0</td>\n",
       "      <td>NaN</td>\n",
       "      <td>NaN</td>\n",
       "      <td>20.0</td>\n",
       "    </tr>\n",
       "  </tbody>\n",
       "</table>\n",
       "</div>"
      ],
      "text/plain": [
       "          ageAtDiagnosis  timeOfSampleCollectionRelativeToInclusion  \\\n",
       "lab_id                                                                \n",
       "13-00650             NaN                                        2.0   \n",
       "\n",
       "          %.Blasts.in.PB  WBC.Count  ageAtSpecimenAcquisition  \n",
       "lab_id                                                         \n",
       "13-00650             NaN        NaN                      20.0  "
      ]
     },
     "execution_count": 123,
     "metadata": {},
     "output_type": "execute_result"
    }
   ],
   "source": [
    "clin_num[clin_num.ageAtDiagnosis.isnull()]"
   ]
  },
  {
   "cell_type": "code",
   "execution_count": 102,
   "metadata": {},
   "outputs": [
    {
     "data": {
      "text/plain": [
       "ageAtDiagnosis                               212\n",
       "timeOfSampleCollectionRelativeToInclusion    213\n",
       "%.Blasts.in.PB                               152\n",
       "WBC.Count                                    181\n",
       "ageAtSpecimenAcquisition                     213\n",
       "dtype: int64"
      ]
     },
     "execution_count": 102,
     "metadata": {},
     "output_type": "execute_result"
    }
   ],
   "source": [
    "clin_num.count()"
   ]
  },
  {
   "cell_type": "code",
   "execution_count": 120,
   "metadata": {},
   "outputs": [
    {
     "data": {
      "text/plain": [
       "ageAtDiagnosis                               79\n",
       "timeOfSampleCollectionRelativeToInclusion    80\n",
       "%.Blasts.in.PB                               54\n",
       "WBC.Count                                    63\n",
       "ageAtSpecimenAcquisition                     79\n",
       "dtype: int64"
      ]
     },
     "execution_count": 120,
     "metadata": {},
     "output_type": "execute_result"
    }
   ],
   "source": [
    "clin_num_test.count()"
   ]
  },
  {
   "cell_type": "code",
   "execution_count": 124,
   "metadata": {},
   "outputs": [
    {
     "data": {
      "text/html": [
       "<div>\n",
       "<style scoped>\n",
       "    .dataframe tbody tr th:only-of-type {\n",
       "        vertical-align: middle;\n",
       "    }\n",
       "\n",
       "    .dataframe tbody tr th {\n",
       "        vertical-align: top;\n",
       "    }\n",
       "\n",
       "    .dataframe thead th {\n",
       "        text-align: right;\n",
       "    }\n",
       "</style>\n",
       "<table border=\"1\" class=\"dataframe\">\n",
       "  <thead>\n",
       "    <tr style=\"text-align: right;\">\n",
       "      <th></th>\n",
       "      <th>ageAtDiagnosis</th>\n",
       "      <th>timeOfSampleCollectionRelativeToInclusion</th>\n",
       "      <th>%.Blasts.in.PB</th>\n",
       "      <th>WBC.Count</th>\n",
       "      <th>ageAtSpecimenAcquisition</th>\n",
       "    </tr>\n",
       "    <tr>\n",
       "      <th>lab_id</th>\n",
       "      <th></th>\n",
       "      <th></th>\n",
       "      <th></th>\n",
       "      <th></th>\n",
       "      <th></th>\n",
       "    </tr>\n",
       "  </thead>\n",
       "  <tbody>\n",
       "    <tr>\n",
       "      <th>13-00601</th>\n",
       "      <td>NaN</td>\n",
       "      <td>4.0</td>\n",
       "      <td>NaN</td>\n",
       "      <td>NaN</td>\n",
       "      <td>NaN</td>\n",
       "    </tr>\n",
       "  </tbody>\n",
       "</table>\n",
       "</div>"
      ],
      "text/plain": [
       "          ageAtDiagnosis  timeOfSampleCollectionRelativeToInclusion  \\\n",
       "lab_id                                                                \n",
       "13-00601             NaN                                        4.0   \n",
       "\n",
       "          %.Blasts.in.PB  WBC.Count  ageAtSpecimenAcquisition  \n",
       "lab_id                                                         \n",
       "13-00601             NaN        NaN                       NaN  "
      ]
     },
     "execution_count": 124,
     "metadata": {},
     "output_type": "execute_result"
    }
   ],
   "source": [
    "clin_num_test[clin_num_test.ageAtDiagnosis.isnull()]"
   ]
  },
  {
   "cell_type": "code",
   "execution_count": 104,
   "metadata": {},
   "outputs": [
    {
     "name": "stdout",
     "output_type": "stream",
     "text": [
      "ageAtDiagnosis 0\n",
      "timeOfSampleCollectionRelativeToInclusion 179\n",
      "%.Blasts.in.PB 7\n",
      "WBC.Count 0\n",
      "ageAtSpecimenAcquisition 0\n"
     ]
    }
   ],
   "source": [
    "for i in range(clin_num.shape[1]):\n",
    "    print(clin_num.columns[i], sum(clin_num[clin_num.columns[i]] == 0))"
   ]
  },
  {
   "cell_type": "code",
   "execution_count": 211,
   "metadata": {},
   "outputs": [
    {
     "name": "stdout",
     "output_type": "stream",
     "text": [
      "ageAtDiagnosis\n"
     ]
    },
    {
     "data": {
      "image/png": "[encoded data removed]",
      "text/plain": [
       "<Figure size 432x288 with 1 Axes>"
      ]
     },
     "metadata": {
      "needs_background": "light"
     },
     "output_type": "display_data"
    },
    {
     "name": "stdout",
     "output_type": "stream",
     "text": [
      "timeOfSampleCollectionRelativeToInclusion\n"
     ]
    },
    {
     "data": {
      "image/png": "[encoded data removed]",
      "text/plain": [
       "<Figure size 432x288 with 1 Axes>"
      ]
     },
     "metadata": {
      "needs_background": "light"
     },
     "output_type": "display_data"
    },
    {
     "name": "stdout",
     "output_type": "stream",
     "text": [
      "%.Blasts.in.PB\n"
     ]
    },
    {
     "data": {
      "image/png": "[encoded data removed]",
      "text/plain": [
       "<Figure size 432x288 with 1 Axes>"
      ]
     },
     "metadata": {
      "needs_background": "light"
     },
     "output_type": "display_data"
    },
    {
     "name": "stdout",
     "output_type": "stream",
     "text": [
      "WBC.Count\n"
     ]
    },
    {
     "data": {
      "image/png": "[encoded data removed]",
      "text/plain": [
       "<Figure size 432x288 with 1 Axes>"
      ]
     },
     "metadata": {
      "needs_background": "light"
     },
     "output_type": "display_data"
    },
    {
     "name": "stdout",
     "output_type": "stream",
     "text": [
      "ageAtSpecimenAcquisition\n"
     ]
    },
    {
     "data": {
      "image/png": "[encoded data removed]",
      "text/plain": [
       "<Figure size 432x288 with 1 Axes>"
      ]
     },
     "metadata": {
      "needs_background": "light"
     },
     "output_type": "display_data"
    }
   ],
   "source": [
    "for i in range(clin_num.shape[1]):\n",
    "    print(clin_num.columns[i])\n",
    "    clin_num[clin_num.columns[i]].hist(bins = 20)\n",
    "    clin_num_test[clin_num_test.columns[i]].hist(bins = 20)\n",
    "    plt.show()"
   ]
  },
  {
   "cell_type": "code",
   "execution_count": 216,
   "metadata": {},
   "outputs": [],
   "source": [
    "clin_num_filled = clin_num.fillna(clin_num.median(), inplace=False)\n",
    "clin_num_test_filled = clin_num_test.fillna(clin_num.median(), inplace=False)"
   ]
  },
  {
   "cell_type": "markdown",
   "metadata": {},
   "source": [
    "### DNA sequence"
   ]
  },
  {
   "cell_type": "code",
   "execution_count": 171,
   "metadata": {},
   "outputs": [],
   "source": [
    "dnaseq = pd.read_csv('training/dnaseq.csv', header = 0)\n",
    "#dnaseq.drop('Transcript_ID', axis = 1, inplace = True)"
   ]
  },
  {
   "cell_type": "code",
   "execution_count": 162,
   "metadata": {},
   "outputs": [],
   "source": [
    "dnaseq_test = pd.read_csv('leaderboard/dnaseq.csv', header = 0)\n",
    "dnaseq_test.drop('Transcript_ID', axis = 1, inplace = True)"
   ]
  },
  {
   "cell_type": "code",
   "execution_count": 172,
   "metadata": {},
   "outputs": [
    {
     "name": "stdout",
     "output_type": "stream",
     "text": [
      "(661, 10)\n"
     ]
    },
    {
     "data": {
      "text/html": [
       "<div>\n",
       "<style scoped>\n",
       "    .dataframe tbody tr th:only-of-type {\n",
       "        vertical-align: middle;\n",
       "    }\n",
       "\n",
       "    .dataframe tbody tr th {\n",
       "        vertical-align: top;\n",
       "    }\n",
       "\n",
       "    .dataframe thead th {\n",
       "        text-align: right;\n",
       "    }\n",
       "</style>\n",
       "<table border=\"1\" class=\"dataframe\">\n",
       "  <thead>\n",
       "    <tr style=\"text-align: right;\">\n",
       "      <th></th>\n",
       "      <th>lab_id</th>\n",
       "      <th>Chromosome</th>\n",
       "      <th>Start_Position</th>\n",
       "      <th>End_Position</th>\n",
       "      <th>Reference_Allele</th>\n",
       "      <th>Alt_Allele</th>\n",
       "      <th>Transcript_ID</th>\n",
       "      <th>Hugo_Symbol</th>\n",
       "      <th>HGVSp_Short</th>\n",
       "      <th>var_name</th>\n",
       "    </tr>\n",
       "  </thead>\n",
       "  <tbody>\n",
       "    <tr>\n",
       "      <th>0</th>\n",
       "      <td>13-00245</td>\n",
       "      <td>X</td>\n",
       "      <td>120009392</td>\n",
       "      <td>120009392</td>\n",
       "      <td>T</td>\n",
       "      <td>C</td>\n",
       "      <td>ENST00000371311</td>\n",
       "      <td>CT47B1</td>\n",
       "      <td>p.M45V</td>\n",
       "      <td>CT47B1_p.M45V</td>\n",
       "    </tr>\n",
       "    <tr>\n",
       "      <th>1</th>\n",
       "      <td>13-00425</td>\n",
       "      <td>13</td>\n",
       "      <td>28610138</td>\n",
       "      <td>28610138</td>\n",
       "      <td>G</td>\n",
       "      <td>A</td>\n",
       "      <td>ENST00000241453</td>\n",
       "      <td>FLT3</td>\n",
       "      <td>p.S451F</td>\n",
       "      <td>FLT3_p.S451F</td>\n",
       "    </tr>\n",
       "    <tr>\n",
       "      <th>2</th>\n",
       "      <td>14-00613</td>\n",
       "      <td>7</td>\n",
       "      <td>40127734</td>\n",
       "      <td>40127734</td>\n",
       "      <td>A</td>\n",
       "      <td>T</td>\n",
       "      <td>ENST00000181839</td>\n",
       "      <td>CDK13</td>\n",
       "      <td>p.L1013F</td>\n",
       "      <td>CDK13_p.L1013F</td>\n",
       "    </tr>\n",
       "    <tr>\n",
       "      <th>3</th>\n",
       "      <td>15-00296</td>\n",
       "      <td>12</td>\n",
       "      <td>25398281</td>\n",
       "      <td>25398281</td>\n",
       "      <td>C</td>\n",
       "      <td>T</td>\n",
       "      <td>ENST00000256078</td>\n",
       "      <td>KRAS</td>\n",
       "      <td>p.G13D</td>\n",
       "      <td>KRAS_p.G13D</td>\n",
       "    </tr>\n",
       "    <tr>\n",
       "      <th>4</th>\n",
       "      <td>15-00296</td>\n",
       "      <td>1</td>\n",
       "      <td>115256528</td>\n",
       "      <td>115256528</td>\n",
       "      <td>T</td>\n",
       "      <td>A</td>\n",
       "      <td>ENST00000369535</td>\n",
       "      <td>NRAS</td>\n",
       "      <td>p.Q61H</td>\n",
       "      <td>NRAS_p.Q61H</td>\n",
       "    </tr>\n",
       "  </tbody>\n",
       "</table>\n",
       "</div>"
      ],
      "text/plain": [
       "     lab_id Chromosome  Start_Position  End_Position Reference_Allele  \\\n",
       "0  13-00245          X       120009392     120009392                T   \n",
       "1  13-00425         13        28610138      28610138                G   \n",
       "2  14-00613          7        40127734      40127734                A   \n",
       "3  15-00296         12        25398281      25398281                C   \n",
       "4  15-00296          1       115256528     115256528                T   \n",
       "\n",
       "  Alt_Allele    Transcript_ID Hugo_Symbol HGVSp_Short        var_name  \n",
       "0          C  ENST00000371311      CT47B1      p.M45V   CT47B1_p.M45V  \n",
       "1          A  ENST00000241453        FLT3     p.S451F    FLT3_p.S451F  \n",
       "2          T  ENST00000181839       CDK13    p.L1013F  CDK13_p.L1013F  \n",
       "3          T  ENST00000256078        KRAS      p.G13D     KRAS_p.G13D  \n",
       "4          A  ENST00000369535        NRAS      p.Q61H     NRAS_p.Q61H  "
      ]
     },
     "execution_count": 172,
     "metadata": {},
     "output_type": "execute_result"
    }
   ],
   "source": [
    "print(dnaseq.shape)\n",
    "dnaseq.head()"
   ]
  },
  {
   "cell_type": "code",
   "execution_count": 175,
   "metadata": {},
   "outputs": [
    {
     "data": {
      "text/plain": [
       "23"
      ]
     },
     "execution_count": 175,
     "metadata": {},
     "output_type": "execute_result"
    }
   ],
   "source": [
    "dnaseq.Alt_Allele.nunique()"
   ]
  },
  {
   "cell_type": "code",
   "execution_count": 170,
   "metadata": {},
   "outputs": [
    {
     "data": {
      "text/plain": [
       "Hugo_Symbol\n",
       "A1CF       1\n",
       "AARS2      1\n",
       "ABCA9      1\n",
       "ABI3BP     1\n",
       "ACAN       1\n",
       "          ..\n",
       "ZNF195     2\n",
       "ZNF285     1\n",
       "ZNF518B    1\n",
       "ZNF711     1\n",
       "ZZEF1      1\n",
       "Name: Reference_Allele, Length: 238, dtype: int64"
      ]
     },
     "execution_count": 170,
     "metadata": {},
     "output_type": "execute_result"
    }
   ],
   "source": [
    "dnaseq.groupby('Hugo_Symbol').Reference_Allele.nunique()"
   ]
  },
  {
   "cell_type": "code",
   "execution_count": 143,
   "metadata": {},
   "outputs": [
    {
     "data": {
      "text/plain": [
       "15-00767    14\n",
       "16-01223    10\n",
       "15-00464    10\n",
       "13-00420     9\n",
       "14-00083     9\n",
       "            ..\n",
       "14-00831     1\n",
       "16-01004     1\n",
       "16-01097     1\n",
       "16-00094     1\n",
       "13-00406     1\n",
       "Name: lab_id, Length: 200, dtype: int64"
      ]
     },
     "execution_count": 143,
     "metadata": {},
     "output_type": "execute_result"
    }
   ],
   "source": [
    "dnaseq.lab_id.value_counts()"
   ]
  },
  {
   "cell_type": "code",
   "execution_count": 142,
   "metadata": {},
   "outputs": [
    {
     "data": {
      "text/plain": [
       "238"
      ]
     },
     "execution_count": 142,
     "metadata": {},
     "output_type": "execute_result"
    }
   ],
   "source": [
    "dnaseq.Hugo_Symbol.nunique()"
   ]
  },
  {
   "cell_type": "code",
   "execution_count": 150,
   "metadata": {},
   "outputs": [
    {
     "data": {
      "text/plain": [
       "(215, 10)"
      ]
     },
     "execution_count": 150,
     "metadata": {},
     "output_type": "execute_result"
    }
   ],
   "source": [
    "dnaseq_test[dnaseq_test.Hugo_Symbol.isin(dnaseq.Hugo_Symbol)].shape"
   ]
  },
  {
   "cell_type": "code",
   "execution_count": 149,
   "metadata": {},
   "outputs": [
    {
     "data": {
      "text/plain": [
       "(67, 10)"
      ]
     },
     "execution_count": 149,
     "metadata": {},
     "output_type": "execute_result"
    }
   ],
   "source": [
    "dnaseq_test[~dnaseq_test.Hugo_Symbol.isin(dnaseq.Hugo_Symbol)].shape"
   ]
  }
 ],
 "metadata": {
  "kernelspec": {
   "display_name": "Python 3",
   "language": "python",
   "name": "python3"
  },
  "language_info": {
   "codemirror_mode": {
    "name": "ipython",
    "version": 3
   },
   "file_extension": ".py",
   "mimetype": "text/x-python",
   "name": "python",
   "nbconvert_exporter": "python",
   "pygments_lexer": "ipython3",
   "version": "3.6.9"
  }
 },
 "nbformat": 4,
 "nbformat_minor": 4
}
